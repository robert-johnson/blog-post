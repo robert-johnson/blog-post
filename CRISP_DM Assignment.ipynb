{
 "cells": [
  {
   "cell_type": "markdown",
   "metadata": {},
   "source": [
    "## Business Understanding\n",
    "\n",
    "This notebook seeks to explore the efficiency and effectiveness of the distribution of COVID-19 vaccine and how it relates to state populations.\n",
    "\n",
    "To accomplish this I will explore the following questions:  \n",
    "**Does population impact the amount of vaccine distributed to each state？**  \n",
    "**Are states running out of vaccine, which is causing a slowing of the vaccination of the people?**  \n",
    "**Does population density impact the efficiency of the vaccination process?**"
   ]
  },
  {
   "cell_type": "markdown",
   "metadata": {},
   "source": [
    "## Data Understanding\n",
    "\n",
    "To provide data for this investigation, I am using vaccine distribution and administration data provided from the CDC.  This data is contained in several distinct files, which must be merged to get the data needed to answer the questions above.\n",
    "\n",
    "Additionally, to answer questions related to population, we need to merge in state population data, which adds rows for locations not included in the vaccine data.  We'll handle these by removing any rows where the vaccine data is missing"
   ]
  },
  {
   "cell_type": "markdown",
   "metadata": {},
   "source": [
    "## Data Preparation\n",
    "\n",
    "The following cells show the process used to load the necessary data, and create additional data points by providing functions to calculate key metrics\n",
    "\n",
    "We also remove any row with missing values, as they cannot be reliably imputed\n"
    "We have no missing or categorical variables to address in this dataset\n"
   ]
  },
  {
   "cell_type": "code",
   "execution_count": 2,
   "metadata": {},
   "outputs": [],
   "source": [
    "import numpy as np\n",
    "import pandas as pd\n",
    "import matplotlib.pyplot as plt\n",
    "\n"
   ]
  },
  {
   "cell_type": "markdown",
   "metadata": {},
   "source": [
    "### Load the doses distributed data"
   ]
  },
  {
   "cell_type": "code",
   "execution_count": 3,
   "metadata": {},
   "outputs": [
    {
     "data": {
      "text/html": [
       "<div>\n",
       "<style scoped>\n",
       "    .dataframe tbody tr th:only-of-type {\n",
       "        vertical-align: middle;\n",
       "    }\n",
       "\n",
       "    .dataframe tbody tr th {\n",
       "        vertical-align: top;\n",
       "    }\n",
       "\n",
       "    .dataframe thead th {\n",
       "        text-align: right;\n",
       "    }\n",
       "</style>\n",
       "<table border=\"1\" class=\"dataframe\">\n",
       "  <thead>\n",
       "    <tr style=\"text-align: right;\">\n",
       "      <th></th>\n",
       "      <th>Entity</th>\n",
       "      <th>total_distributed</th>\n",
       "    </tr>\n",
       "  </thead>\n",
       "  <tbody>\n",
       "    <tr>\n",
       "      <th>0</th>\n",
       "      <td>Alabama</td>\n",
       "      <td>1689050</td>\n",
       "    </tr>\n",
       "    <tr>\n",
       "      <th>1</th>\n",
       "      <td>Alaska</td>\n",
       "      <td>430685</td>\n",
       "    </tr>\n",
       "    <tr>\n",
       "      <th>2</th>\n",
       "      <td>American Samoa</td>\n",
       "      <td>43210</td>\n",
       "    </tr>\n",
       "    <tr>\n",
       "      <th>3</th>\n",
       "      <td>Arizona</td>\n",
       "      <td>2638855</td>\n",
       "    </tr>\n",
       "    <tr>\n",
       "      <th>4</th>\n",
       "      <td>Arkansas</td>\n",
       "      <td>1158630</td>\n",
       "    </tr>\n",
       "  </tbody>\n",
       "</table>\n",
       "</div>"
      ],
      "text/plain": [
       "           Entity  total_distributed\n",
       "0         Alabama            1689050\n",
       "1          Alaska             430685\n",
       "2  American Samoa              43210\n",
       "3         Arizona            2638855\n",
       "4        Arkansas            1158630"
      ]
     },
     "execution_count": 3,
     "metadata": {},
     "output_type": "execute_result"
    }
   ],
   "source": [
    "# we need to aggreagte a number of source files into one.  First let's load the csv files and drop the unused columns\n",
    "# then we need to sum or average the values we want from the daily repeating rows\n",
    "\n",
    "# get the total number of vaccines distributed\n",
    "df_dist = pd.read_csv('us-total-covid-vaccine-doses-distributed.csv')\n",
    "\n",
    "# drop the Code and Date columns which are unused\n",
    "df_dist.drop(columns=['Code', 'Date'], inplace=True)\n",
    "\n",
    "# get the max the total_distributed by Entity (state)\n",
    "df_dist = df_dist.groupby(['Entity'], sort=False)['total_distributed'].max().reset_index(name='total_distributed')\n",
    "\n",
    "#let's look at the data\n",
    "df_dist.head()"
   ]
  },
  {
   "cell_type": "markdown",
   "metadata": {},
   "source": [
    "### Load the first dose data"
   ]
  },
  {
   "cell_type": "code",
   "execution_count": 5,
   "metadata": {},
   "outputs": [
    {
     "data": {
      "text/html": [
       "<div>\n",
       "<style scoped>\n",
       "    .dataframe tbody tr th:only-of-type {\n",
       "        vertical-align: middle;\n",
       "    }\n",
       "\n",
       "    .dataframe tbody tr th {\n",
       "        vertical-align: top;\n",
       "    }\n",
       "\n",
       "    .dataframe thead th {\n",
       "        text-align: right;\n",
       "    }\n",
       "</style>\n",
       "<table border=\"1\" class=\"dataframe\">\n",
       "  <thead>\n",
       "    <tr style=\"text-align: right;\">\n",
       "      <th></th>\n",
       "      <th>Entity</th>\n",
       "      <th>first_dose</th>\n",
       "    </tr>\n",
       "  </thead>\n",
       "  <tbody>\n",
       "    <tr>\n",
       "      <th>0</th>\n",
       "      <td>Alabama</td>\n",
       "      <td>747268</td>\n",
       "    </tr>\n",
       "    <tr>\n",
       "      <th>1</th>\n",
       "      <td>Alaska</td>\n",
       "      <td>184906</td>\n",
       "    </tr>\n",
       "    <tr>\n",
       "      <th>2</th>\n",
       "      <td>American Samoa</td>\n",
       "      <td>13471</td>\n",
       "    </tr>\n",
       "    <tr>\n",
       "      <th>3</th>\n",
       "      <td>Arizona</td>\n",
       "      <td>1435152</td>\n",
       "    </tr>\n",
       "    <tr>\n",
       "      <th>4</th>\n",
       "      <td>Arkansas</td>\n",
       "      <td>501653</td>\n",
       "    </tr>\n",
       "  </tbody>\n",
       "</table>\n",
       "</div>"
      ],
      "text/plain": [
       "           Entity  first_dose\n",
       "0         Alabama      747268\n",
       "1          Alaska      184906\n",
       "2  American Samoa       13471\n",
       "3         Arizona     1435152\n",
       "4        Arkansas      501653"
      ]
     },
     "execution_count": 5,
     "metadata": {},
     "output_type": "execute_result"
    }
   ],
   "source": [
    "# get the total number of first doses, then sum the daily state totals\n",
    "df_people = pd.read_csv('us-covid-19-total-people-vaccinated.csv')\n",
    "\n",
    "# drop the Code and Date columns which are unused\n",
    "df_people.drop(columns=['Code', 'Date'], inplace=True)\n",
    "\n",
    "# sum the total_distributed by Entity (state)\n",
    "df_people = df_people.groupby('Entity')['people_vaccinated'].max().reset_index(name='first_dose')\n",
    "\n",
    "df_people.head()"
   ]
  },
  {
   "cell_type": "markdown",
   "metadata": {},
   "source": [
    "### Load the second dose data"
   ]
  },
  {
   "cell_type": "code",
   "execution_count": 6,
   "metadata": {},
   "outputs": [
    {
     "data": {
      "text/html": [
       "<div>\n",
       "<style scoped>\n",
       "    .dataframe tbody tr th:only-of-type {\n",
       "        vertical-align: middle;\n",
       "    }\n",
       "\n",
       "    .dataframe tbody tr th {\n",
       "        vertical-align: top;\n",
       "    }\n",
       "\n",
       "    .dataframe thead th {\n",
       "        text-align: right;\n",
       "    }\n",
       "</style>\n",
       "<table border=\"1\" class=\"dataframe\">\n",
       "  <thead>\n",
       "    <tr style=\"text-align: right;\">\n",
       "      <th></th>\n",
       "      <th>Entity</th>\n",
       "      <th>second_dose</th>\n",
       "    </tr>\n",
       "  </thead>\n",
       "  <tbody>\n",
       "    <tr>\n",
       "      <th>0</th>\n",
       "      <td>Alabama</td>\n",
       "      <td>420083</td>\n",
       "    </tr>\n",
       "    <tr>\n",
       "      <th>1</th>\n",
       "      <td>Alaska</td>\n",
       "      <td>117345</td>\n",
       "    </tr>\n",
       "    <tr>\n",
       "      <th>2</th>\n",
       "      <td>American Samoa</td>\n",
       "      <td>8254</td>\n",
       "    </tr>\n",
       "    <tr>\n",
       "      <th>3</th>\n",
       "      <td>Arizona</td>\n",
       "      <td>750217</td>\n",
       "    </tr>\n",
       "    <tr>\n",
       "      <th>4</th>\n",
       "      <td>Arkansas</td>\n",
       "      <td>279815</td>\n",
       "    </tr>\n",
       "  </tbody>\n",
       "</table>\n",
       "</div>"
      ],
      "text/plain": [
       "           Entity  second_dose\n",
       "0         Alabama       420083\n",
       "1          Alaska       117345\n",
       "2  American Samoa         8254\n",
       "3         Arizona       750217\n",
       "4        Arkansas       279815"
      ]
     },
     "execution_count": 6,
     "metadata": {},
     "output_type": "execute_result"
    }
   ],
   "source": [
    "# get the total number of fully vaccinated (both shots), then sum the daily state totals\n",
    "df_fully = pd.read_csv('us-covid-number-fully-vaccinated.csv')\n",
    "\n",
    "# drop the Code and Date columns which are unused\n",
    "df_fully.drop(columns=['Code', 'Date'], inplace=True)\n",
    "\n",
    "# sum the total_distributed by Entity (state)\n",
    "df_fully = df_fully.groupby('Entity')['people_fully_vaccinated'].max().reset_index(name='second_dose')\n",
    "\n",
    "df_fully.head()"
   ]
  },
  {
   "cell_type": "markdown",
   "metadata": {},
   "source": [
    "### Load the state population data"
   ]
  },
  {
   "cell_type": "code",
   "execution_count": 7,
   "metadata": {},
   "outputs": [
    {
     "data": {
      "text/html": [
       "<div>\n",
       "<style scoped>\n",
       "    .dataframe tbody tr th:only-of-type {\n",
       "        vertical-align: middle;\n",
       "    }\n",
       "\n",
       "    .dataframe tbody tr th {\n",
       "        vertical-align: top;\n",
       "    }\n",
       "\n",
       "    .dataframe thead th {\n",
       "        text-align: right;\n",
       "    }\n",
       "</style>\n",
       "<table border=\"1\" class=\"dataframe\">\n",
       "  <thead>\n",
       "    <tr style=\"text-align: right;\">\n",
       "      <th></th>\n",
       "      <th>Entity</th>\n",
       "      <th>population</th>\n",
       "    </tr>\n",
       "  </thead>\n",
       "  <tbody>\n",
       "    <tr>\n",
       "      <th>0</th>\n",
       "      <td>California</td>\n",
       "      <td>39368078</td>\n",
       "    </tr>\n",
       "    <tr>\n",
       "      <th>1</th>\n",
       "      <td>Texas</td>\n",
       "      <td>29360759</td>\n",
       "    </tr>\n",
       "    <tr>\n",
       "      <th>2</th>\n",
       "      <td>Florida</td>\n",
       "      <td>21733312</td>\n",
       "    </tr>\n",
       "    <tr>\n",
       "      <th>3</th>\n",
       "      <td>New York State</td>\n",
       "      <td>19336776</td>\n",
       "    </tr>\n",
       "    <tr>\n",
       "      <th>4</th>\n",
       "      <td>Pennsylvania</td>\n",
       "      <td>12783254</td>\n",
       "    </tr>\n",
       "  </tbody>\n",
       "</table>\n",
       "</div>"
      ],
      "text/plain": [
       "           Entity  population\n",
       "0      California    39368078\n",
       "1           Texas    29360759\n",
       "2         Florida    21733312\n",
       "3  New York State    19336776\n",
       "4    Pennsylvania    12783254"
      ]
     },
     "execution_count": 7,
     "metadata": {},
     "output_type": "execute_result"
    }
   ],
   "source": [
    "# get the total count of vaccinations per 100 people, then sum the daily state totals\n",
    "df_population = pd.read_csv('us-population-2020.csv')\n",
    "\n",
    "df_population.head()"
   ]
  },
  {
   "cell_type": "markdown",
   "metadata": {},
   "source": [
    "### Create functions to help manuafacture data needed to answer our core questions"
   ]
  },
  {
   "cell_type": "code",
   "execution_count": 8,
   "metadata": {},
   "outputs": [],
   "source": [
    "def distributionPercent(row):\n",
    "    \"\"\"\n",
    "    Calculate the percentage of distributed vaccine to the total population\n",
    "    \n",
    "    :args\n",
    "        row: the dataframe row being evaluated\n",
    "        \n",
    "    :returns\n",
    "        the percentage of total vaccine to total population\n",
    "    \"\"\"\n",
    "    return row['total_distributed']/row['population']\n",
    "\n",
    "def vaccinationPercent(row):\n",
    "    \"\"\"\n",
    "    Calculate the percentage of first doses administered to the total doses distributed\n",
    "    \n",
    "    :args\n",
    "        row: the dataframe row being evaluated\n",
    "        \n",
    "    :returns\n",
    "        the percentage of first doses to total doses\n",
    "    \"\"\"\n",
    "    return row['first_dose']/row['total_distributed']\n",
    "\n",
    "def completedPercent(row):\n",
    "    \"\"\"\n",
    "    Calculate the percentage of second/final doses administered to the total doses distributed\n",
    "    \n",
    "    :args\n",
    "        row: the dataframe row being evaluated\n",
    "        \n",
    "    :returns\n",
    "        the percentage of second/final doses to total doses\n",
    "    \"\"\"\n",
    "    return row['second_dose']/row['total_distributed']\n",
    "\n",
    "def total_doses(row):\n",
    "    \"\"\"\n",
    "    Calculate the total doses administered\n",
    "    \n",
    "    :args\n",
    "        row: the dataframe row being evaluated\n",
    "        \n",
    "    :returns\n",
    "        sum of first and second doses\n",
    "    \"\"\"\n",
    "    return row['second_dose']+row['first_dose']\n",
    "\n",
    "def usage(row):\n",
    "    \"\"\"\n",
    "    Calculate the percentage of total doses administered to the total doses distributed\n",
    "    \n",
    "    :args\n",
    "        row: the dataframe row being evaluated\n",
    "        \n",
    "    :returns\n",
    "        the percentage of total doses administered to total doses distributed\n",
    "    \"\"\"\n",
    "    return row['total_doses']/row['total_distributed'] * 100\n",
    "\n",
    "def per100(row):\n",
    "    \"\"\"\n",
    "    Calculate the number of doses administered per 100 population\n",
    "    \n",
    "    :args\n",
    "        row: the dataframe row being evaluated\n",
    "        \n",
    "    :returns\n",
    "        the count of doses adminstered per 100 population\n",
    "    \"\"\"\n",
    "    return row['total_doses']/row['population'] * 100"
   ]
  },
  {
   "cell_type": "markdown",
   "metadata": {},
   "source": [
    "### Merge all the various files into a single dataframe, then add additional columns for percentage values"
   ]
  },
  {
   "cell_type": "code",
   "execution_count": 10,
   "metadata": {
    "scrolled": true
   },
   "outputs": [
    {
     "data": {
      "text/html": [
       "<div>\n",
       "<style scoped>\n",
       "    .dataframe tbody tr th:only-of-type {\n",
       "        vertical-align: middle;\n",
       "    }\n",
       "\n",
       "    .dataframe tbody tr th {\n",
       "        vertical-align: top;\n",
       "    }\n",
       "\n",
       "    .dataframe thead th {\n",
       "        text-align: right;\n",
       "    }\n",
       "</style>\n",
       "<table border=\"1\" class=\"dataframe\">\n",
       "  <thead>\n",
       "    <tr style=\"text-align: right;\">\n",
       "      <th></th>\n",
       "      <th>Entity</th>\n",
       "      <th>total_distributed</th>\n",
       "      <th>first_dose</th>\n",
       "      <th>second_dose</th>\n",
       "      <th>total_doses</th>\n",
       "      <th>population</th>\n",
       "      <th>per100_population</th>\n",
       "      <th>usage_percentage</th>\n",
       "      <th>distribution_percentage</th>\n",
       "      <th>first_dose_percentage</th>\n",
       "      <th>second_dose_percentage</th>\n",
       "    </tr>\n",
       "  </thead>\n",
       "  <tbody>\n",
       "    <tr>\n",
       "      <th>0</th>\n",
       "      <td>Alabama</td>\n",
       "      <td>1689050</td>\n",
       "      <td>747268</td>\n",
       "      <td>420083</td>\n",
       "      <td>1167351</td>\n",
       "      <td>4921532</td>\n",
       "      <td>23.719261</td>\n",
       "      <td>69.112874</td>\n",
       "      <td>0.343196</td>\n",
       "      <td>0.442419</td>\n",
       "      <td>0.248710</td>\n",
       "    </tr>\n",
       "    <tr>\n",
       "      <th>1</th>\n",
       "      <td>Alaska</td>\n",
       "      <td>430685</td>\n",
       "      <td>184906</td>\n",
       "      <td>117345</td>\n",
       "      <td>302251</td>\n",
       "      <td>731158</td>\n",
       "      <td>41.338671</td>\n",
       "      <td>70.179133</td>\n",
       "      <td>0.589045</td>\n",
       "      <td>0.429330</td>\n",
       "      <td>0.272461</td>\n",
       "    </tr>\n",
       "    <tr>\n",
       "      <th>2</th>\n",
       "      <td>Arizona</td>\n",
       "      <td>2638855</td>\n",
       "      <td>1435152</td>\n",
       "      <td>750217</td>\n",
       "      <td>2185369</td>\n",
       "      <td>7421401</td>\n",
       "      <td>29.446852</td>\n",
       "      <td>82.815047</td>\n",
       "      <td>0.355574</td>\n",
       "      <td>0.543854</td>\n",
       "      <td>0.284296</td>\n",
       "    </tr>\n",
       "    <tr>\n",
       "      <th>3</th>\n",
       "      <td>Arkansas</td>\n",
       "      <td>1158630</td>\n",
       "      <td>501653</td>\n",
       "      <td>279815</td>\n",
       "      <td>781468</td>\n",
       "      <td>3030522</td>\n",
       "      <td>25.786581</td>\n",
       "      <td>67.447589</td>\n",
       "      <td>0.382320</td>\n",
       "      <td>0.432971</td>\n",
       "      <td>0.241505</td>\n",
       "    </tr>\n",
       "    <tr>\n",
       "      <th>4</th>\n",
       "      <td>California</td>\n",
       "      <td>15047220</td>\n",
       "      <td>7400238</td>\n",
       "      <td>3444791</td>\n",
       "      <td>10845029</td>\n",
       "      <td>39368078</td>\n",
       "      <td>27.547774</td>\n",
       "      <td>72.073307</td>\n",
       "      <td>0.382219</td>\n",
       "      <td>0.491801</td>\n",
       "      <td>0.228932</td>\n",
       "    </tr>\n",
       "  </tbody>\n",
       "</table>\n",
       "</div>"
      ],
      "text/plain": [
       "       Entity  total_distributed  first_dose  second_dose  total_doses  \\\n",
       "0     Alabama            1689050      747268       420083      1167351   \n",
       "1      Alaska             430685      184906       117345       302251   \n",
       "2     Arizona            2638855     1435152       750217      2185369   \n",
       "3    Arkansas            1158630      501653       279815       781468   \n",
       "4  California           15047220     7400238      3444791     10845029   \n",
       "\n",
       "   population  per100_population  usage_percentage  distribution_percentage  \\\n",
       "0     4921532          23.719261         69.112874                 0.343196   \n",
       "1      731158          41.338671         70.179133                 0.589045   \n",
       "2     7421401          29.446852         82.815047                 0.355574   \n",
       "3     3030522          25.786581         67.447589                 0.382320   \n",
       "4    39368078          27.547774         72.073307                 0.382219   \n",
       "\n",
       "   first_dose_percentage  second_dose_percentage  \n",
       "0               0.442419                0.248710  \n",
       "1               0.429330                0.272461  \n",
       "2               0.543854                0.284296  \n",
       "3               0.432971                0.241505  \n",
       "4               0.491801                0.228932  "
      ]
     },
     "execution_count": 10,
     "metadata": {},
     "output_type": "execute_result"
    }
   ],
   "source": [
    "\n",
    "# merge the dataframes together using the Entity as the key\n",
    "df_data = pd.merge(left=df_dist, right=df_people, left_on='Entity', right_on='Entity')\n",
    "df_data = pd.merge(left=df_data, right=df_fully, left_on='Entity', right_on='Entity')\n",
    "\n",
    "# let's compute some percentages vs population\n",
    "df_data['total_doses'] = df_data.apply (lambda row: total_doses(row), axis=1)\n",
    "\n",
    "# merge in population for percentage calculations\n",
    "df_data = pd.merge(left=df_data, right=df_population, left_on='Entity', right_on='Entity')\n",
    "\n",
    "# per100 = (total_vaccinations / (population)) * 100, gives me a metric not tied to size\n",
    "df_data['per100_population'] = df_data.apply (lambda row: per100(row), axis=1)\n",
    "\n",
    "# calculate the percentage of vaccine distributed / population\n",
    "df_data['usage_percentage'] = df_data.apply (lambda row: usage(row), axis=1)\n",
    "df_data['distribution_percentage'] = df_data.apply (lambda row: distributionPercent(row), axis=1)\n",
    "df_data['first_dose_percentage'] = df_data.apply (lambda row: vaccinationPercent(row), axis=1)\n",
    "df_data['second_dose_percentage'] = df_data.apply (lambda row: completedPercent(row), axis=1)\n",
    "\n",
    "# population introduces some missing elements, so let's remove any that don't have vaccination data\n",
    "df_data = df_data.dropna(how='all')\n",
    "\n",
    "# uncomment to save the output csv\n",
    "# df_data.to_csv('us-covid-19-final.csv', index=False, line_terminator='\\n')\n",
    "\n",
    "df_data.head()\n",
    "\n"
   ]
  },
  {
   "cell_type": "markdown",
   "metadata": {},
   "source": [
    "### Data Modeling\n",
    "\n",
    "There are no models required to answer the core questions"
   ]
  },
  {
   "cell_type": "code",
   "execution_count": 219,
   "metadata": {},
   "outputs": [
    {
     "data": {
      "image/png": "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\n",
      "text/plain": [
       "<Figure size 432x288 with 1 Axes>"
      ]
     },
     "metadata": {
      "needs_background": "light"
     },
     "output_type": "display_data"
    }
   ],
   "source": [
    "df_data.nlargest(10,'total_distributed').plot(x='Entity', y=['total_distributed'], kind=\"bar\");\n",
    "plt.title(\"Top 10 States by Vaccine Distribution\");"
   ]
  },
  {
   "cell_type": "code",
   "execution_count": 224,
   "metadata": {
    "scrolled": true
   },
   "outputs": [
    {
     "data": {
      "image/png": "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\n",
      "text/plain": [
       "<Figure size 432x288 with 1 Axes>"
      ]
     },
     "metadata": {
      "needs_background": "light"
     },
     "output_type": "display_data"
    }
   ],
   "source": [
    "df_data.nlargest(10,'distribution_percentage').plot(x='Entity', y=['distribution_percentage'], kind=\"bar\");\n",
    "plt.title(\"Top 10 States by Vaccine Distribution as Percent of Population\");"
   ]
  },
  {
   "cell_type": "code",
   "execution_count": 230,
   "metadata": {
    "scrolled": true
   },
   "outputs": [
    {
     "data": {
      "image/png": "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\n",
      "text/plain": [
       "<Figure size 432x288 with 1 Axes>"
      ]
     },
     "metadata": {
      "needs_background": "light"
     },
     "output_type": "display_data"
    }
   ],
   "source": [
    "df_data.nlargest(10,'usage_percentage').plot(x='Entity', y=['usage_percentage'], kind=\"bar\");\n",
    "plt.title(\"Top 10 States by Vaccine Usage\");"
   ]
  },
  {
   "cell_type": "code",
   "execution_count": 235,
   "metadata": {
    "scrolled": true
   },
   "outputs": [
    {
     "data": {
      "image/png": "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\n",
      "text/plain": [
       "<Figure size 432x288 with 1 Axes>"
      ]
     },
     "metadata": {
      "needs_background": "light"
     },
     "output_type": "display_data"
    }
   ],
   "source": [
    "df_data.nlargest(10,'per100_population').plot(x='Entity', y=['per100_population'], kind=\"bar\");\n",
    "plt.title(\"Bottom 10 States by Vaccinations per 100 Population\");"
   ]
  },
  {
   "cell_type": "code",
   "execution_count": 234,
   "metadata": {
    "scrolled": true
   },
   "outputs": [
    {
     "data": {
      "image/png": "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\n",
      "text/plain": [
       "<Figure size 432x288 with 1 Axes>"
      ]
     },
     "metadata": {
      "needs_background": "light"
     },
     "output_type": "display_data"
    }
   ],
   "source": [
    "df_data.nsmallest(10,'per100_population').plot(x='Entity', y=['per100_population'], kind=\"bar\");\n",
    "plt.title(\"Bottom 10 States by Vaccinations per 100 Population\");"
   ]
  },
  {
   "cell_type": "markdown",
   "metadata": {},
   "source": [
    "### Results Evaluation\n",
    "\n",
    "Based on the analysis of the data through the charts above, we can conclude the following:\n",
    "\n",
    "**Does population impact the amount of vaccine distributed to each state?**  \n",
    "\n",
    "It appears that larger states by population receive a greater number of doses, which makes sense.  However, the number of doses distributed to a state divided by the state population gives a range between 40-60% for all states, with the smaller states by population having the largest percentage of doses.\n",
    "\n",
    "**Are states running out of vaccine, which is causing a slowing of the vaccination of the people?**  \n",
    "\n",
    "Based on the data, the total number of vaccine doses distributed to the states exceeds administration by 20-40%.  Therefore the difficulties in getting a state population vaccinated is not exclusively due to supply, but perhaps other logistical factors as well.\n",
    "\n",
    "**Does population density impact the efficiency of the vaccination process?**  \n",
    "\n",
    "To compare states of all population sizes, I normalized the number of vaccines received and administered per 100 of population.  This allows for a raw score to be compared across states.  One might assume that larger states have a more dense population than states where much of the population lives in a rural setting.  However, the data does not support this assumption as the highest scores for the per 100 metric are the less populated states.  \n",
    "\n",
    "Further, the data does not show that the most populated states are the least effective per 100.  This seems to suggest that population is not the greatest contributing factor to vaccine distribution"
   ]
  },
  {
   "cell_type": "code",
   "execution_count": null,
   "metadata": {},
   "outputs": [],
   "source": []
  }
 ],
 "metadata": {
  "kernelspec": {
   "display_name": "Python 3",
   "language": "python",
   "name": "python3"
  },
  "language_info": {
   "codemirror_mode": {
    "name": "ipython",
    "version": 3
   },
   "file_extension": ".py",
   "mimetype": "text/x-python",
   "name": "python",
   "nbconvert_exporter": "python",
   "pygments_lexer": "ipython3",
   "version": "3.8.5"
  }
 },
 "nbformat": 4,
 "nbformat_minor": 4
}
